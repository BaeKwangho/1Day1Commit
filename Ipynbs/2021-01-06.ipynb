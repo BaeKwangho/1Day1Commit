{
 "cells": [
  {
   "cell_type": "markdown",
   "metadata": {},
   "source": [
    "## Week3\n",
    "\n",
    "ReLu와 Leaky ReLu는 미분값이 0에 가까웠던 기존 sigmoid 와 tanh 를 대신해 안정적인 학습. 빠르게 가능하다.\n",
    "대부분의 예제에서 activation layer에 들어가는 값이 0보다 크기에 이것은 효과적임.\n",
    "\n",
    "tanh는 sigmoid가 중간값이 0.5 정도에 미치는 것에 반해 0이라는 값이 부여됨으로 안정적으로 학습 됨.\n",
    "sigmoid는 (0,1)에서 움직이기 때문에 logistic regression에서 활용 가능성이 높음\n",
    "\n",
    "##### Activation function 이유\n",
    "없으면 weight matrix가 계속 곱해지는 모양새가 되면서... logistic 에서는 원하는 모양이 안나옴. 근데 linear regression 에서는 g(z)=z 와 같은 것을 써도 실수 결과 예측값이 필요하기 때문에 사용도 가능.. (거긴 ReLu를 쓰겠지만 ㅇㅇ)"
   ]
  },
  {
   "attachments": {},
   "cell_type": "markdown",
   "metadata": {},
   "source": [
    "activation function은 미분하였을 때의 값을 대략적으로 알아보면 그 효과등을 예상할 수 잇음.\n",
    "\n",
    "W를 0으로 초기화 할 시 입력값에 대한 학습이 모든 w_(i)에 대해서 같게 됨으로 학습이 안됨.\n",
    "\n",
    "### loss에 관하여\n",
    "\n",
    "강의에서 계속 언급되는 binary cross entropy가 궁금하여 다른 loss와 함께 찾아보게 되었다.\n",
    "우선적으로 cross entropy 자체는 binary와 같이 두개의 상태를 갖는 것이 아닌, 하나의 상태만을 나타내는 지표였다.\n",
    "\n",
    "또한 이는 multi labeling classification에도 사용된다고 하는데 이 부분은 공부해야할 듯 싶다.\n",
    "\n",
    "MSE, mean squared error 는 L2-norm loss로 사용된다. L2-norm은 내가 저번에 prototypical few shot을 했을때 쓴 euclidean distance loss 도 포함하는 loss 종류이다. 이는 임베딩 사이간의 차이를 나타내기 쉽다. (cross entropy는 log를 취한 단순한 값의 확률 분포이다.?)\n",
    "\n",
    "---\n",
    "## 이용해보자\n",
    "\n",
    "이것을 통해서 항상 어렵게 느껴졌던 RNN 단어집합에 대한 학습 이해가 가능하지 않을까 생각했다.\n",
    "최종적으로 기획하는 것은 음성 통역기이기 때문에, dataset은 음성파일에 해당하는 문장 집합이 필요할 것이다.\n",
    "우선, dataset을 찾아보자\n",
    "\n",
    "~~~아,, 조금은 이른거같다.. 공부 다시 해야할듯 ㅠ~~~\n",
    "\n",
    "CNN, RNN 강의까지 어느정도는 들어야지 개념적인 이해로부터 사용까지 가능할 듯 싶다. 그전까진... 좀 넣어둬야지 ㅎㅎ"
   ]
  },
  {
   "cell_type": "code",
   "execution_count": 8,
   "metadata": {},
   "outputs": [
    {
     "name": "stdout",
     "output_type": "stream",
     "text": [
      "/root/storage/DATA/LibriSpeech/dev-clean/2277/149896\n"
     ]
    }
   ],
   "source": [
    "import os\n",
    "import sys\n",
    "\n",
    "folder_path = '/root/storage/DATA/LibriSpeech/dev-clean/'\n",
    "folder_1s = os.listdir(folder_path)\n",
    "for i,folder_1 in enumerate(folder_1s):\n",
    "    folder1_path = os.path.join(folder_path,folder_1)\n",
    "    folder_2s = os.listdir(folder1_path)\n",
    "    for j,folder_2 in enumerate(folder_2s):\n",
    "        folder2_path = os.path.join(folder1_path,folder_2)\n",
    "        folder_3s = os.listdir(folder2_path)\n",
    "        for k,file in enumerate(folder_3s):\n",
    "            "
   ]
  },
  {
   "cell_type": "code",
   "execution_count": null,
   "metadata": {},
   "outputs": [],
   "source": []
  }
 ],
 "metadata": {
  "kernelspec": {
   "display_name": "Python 3",
   "language": "python",
   "name": "python3"
  },
  "language_info": {
   "codemirror_mode": {
    "name": "ipython",
    "version": 3
   },
   "file_extension": ".py",
   "mimetype": "text/x-python",
   "name": "python",
   "nbconvert_exporter": "python",
   "pygments_lexer": "ipython3",
   "version": "3.6.8"
  }
 },
 "nbformat": 4,
 "nbformat_minor": 2
}
