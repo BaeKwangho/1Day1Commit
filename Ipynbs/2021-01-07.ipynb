{
 "cells": [
  {
   "cell_type": "markdown",
   "metadata": {},
   "source": [
    "## Week4\n",
    "#### 그냥 인터넷에서 본 이것저것\n",
    "\n",
    "tensor 2 부터 지원되는 tf.gradients는 graph로 표현된 층으로부터의 미분값들을 구한다.<br>\n",
    "궁금해서 tf.graph를 찾아봤는데, 이는 파이썬 내에서만의 operation으로 구성된 기존 레이어들에서 벗어나,\n",
    "graph 형식의 data structure를 구현하여 파이썬 interpreter가 없는 embeded, mobile, server 등에서 tf를 활용할 수 있도록 한다고 한다."
   ]
  },
  {
   "cell_type": "markdown",
   "metadata": {},
   "source": [
    "### 하긴\n",
    "현재 보고 있는 강의도 그렇다. 기본적인 원리를 설명하기 위해 numpy로 직접 하나하나 구현하는 operation이지만, 이것은 딥러닝 프레임워크가 나옴에 따라 구조화 되어 우리가 편히 사용하는 것이니까. <br>\n",
    "우선적으로 원리를 알기 위해 이 강의를 보고 있음을 잊지 말자.\n",
    "----\n",
    "hidden layer의 weight를 그림으로 나타내면, 서로 다른 빗면으로 나타나는 그림 여러장을 구할 수 있는데, 이는 DNN에서 주어진 iuput image에서 각 빗면이 어디에 위치하는지를 구하는 것이라고 한다.(아마 특이한 케이스일 것이다. 이미 다 세팅된..)<br>\n",
    "\n",
    "그리고 layer를 지날때마다 x의 사이즈가 줄어들면서 눈, 코, 입 단위의 프레임이 턱, 이마, 안면 등으로 확대되며 학습이 진행된다. <br>\n",
    "즉, 작은 부분을 찾아서 그들을 합쳐가며 복잡한 부분을 찾을 수 있는 것이라고..\n",
    "\n",
    "마지막에, 작은 모델부터 시작해서 (logistic regression) 문제를 해결할 수 있는 모델을 찾는 것이 효율적이라고 하셨다.<br>\n",
    "(물론, 문제에 따라 접근해야겟지만..) 이런 응용력이 기반되어야 할듯하다."
   ]
  },
  {
   "cell_type": "markdown",
   "metadata": {},
   "source": [
    "**loss가 구해짐에 따라**\n",
    "\n",
    "backpropagation이 가능해지며 역으로 전파하고, 현재 loss 공식에 맞는 derivative term이 구해지고 전파되며 derivative weight가 구해짐\n",
    "\n",
    "어쨌든.. 오늘은 DNN의 backpropagation을 배웠음."
   ]
  },
  {
   "cell_type": "code",
   "execution_count": 1,
   "metadata": {},
   "outputs": [],
   "source": [
    "import tensorflow.keras.layers as Layer\n",
    "from tensorflow.keras import Model\n",
    "import numpy as np\n",
    "import matplotlib.pyplot as plt\n",
    "import tensorflow as tf"
   ]
  },
  {
   "cell_type": "code",
   "execution_count": 12,
   "metadata": {},
   "outputs": [],
   "source": [
    "import os\n",
    "import pickle\n",
    "\n",
    "x = open('/root/storage/DATA/pickle/checked','rb')\n",
    "data = pickle.load(x)\n",
    "x.close()\n",
    "\n",
    "cycle = np.random.permutation(25)\n",
    "exp_data = data[cycle[:10]].reshape(-1,data.shape[1],data.shape[-1]*data.shape[-2])"
   ]
  },
  {
   "cell_type": "code",
   "execution_count": 22,
   "metadata": {},
   "outputs": [],
   "source": [
    "def build(shape):\n",
    "    x_input = Layer.Input(shape)\n",
    "    \n",
    "    x = Layer.Dense(20,activation='tanh')(x_input)\n",
    "    x = Layer.Dense(50,activation='tanh')(x)\n",
    "    x = Layer.Dense(150,activation='tanh')(x)\n",
    "    \n",
    "    model = Model(inputs=x_input,outputs=x,name='custom')\n",
    "    return model\n",
    "#x = np.random.randn(7,7760)"
   ]
  },
  {
   "cell_type": "code",
   "execution_count": 23,
   "metadata": {},
   "outputs": [
    {
     "name": "stdout",
     "output_type": "stream",
     "text": [
      "(7760,)\n"
     ]
    }
   ],
   "source": [
    "exp_shape = exp_data[0,0].shape\n",
    "print(exp_shape)\n",
    "model = build(exp_shape)"
   ]
  },
  {
   "cell_type": "code",
   "execution_count": 24,
   "metadata": {},
   "outputs": [
    {
     "name": "stdout",
     "output_type": "stream",
     "text": [
      "Model: \"custom\"\n",
      "_________________________________________________________________\n",
      "Layer (type)                 Output Shape              Param #   \n",
      "=================================================================\n",
      "input_7 (InputLayer)         [(None, 7760)]            0         \n",
      "_________________________________________________________________\n",
      "dense_18 (Dense)             (None, 20)                155220    \n",
      "_________________________________________________________________\n",
      "dense_19 (Dense)             (None, 50)                1050      \n",
      "_________________________________________________________________\n",
      "dense_20 (Dense)             (None, 150)               7650      \n",
      "=================================================================\n",
      "Total params: 163,920\n",
      "Trainable params: 163,920\n",
      "Non-trainable params: 0\n",
      "_________________________________________________________________\n"
     ]
    }
   ],
   "source": [
    "model.summary()"
   ]
  },
  {
   "cell_type": "code",
   "execution_count": 25,
   "metadata": {
    "scrolled": true
   },
   "outputs": [
    {
     "name": "stdout",
     "output_type": "stream",
     "text": [
      "WARNING:tensorflow:Model was constructed with shape Tensor(\"input_7:0\", shape=(None, 7760), dtype=float32) for input (None, 7760), but it was re-called on a Tensor with incompatible shape (10, 200, 7760).\n",
      "WARNING:tensorflow:Layer dense_18 is casting an input tensor from dtype float64 to the layer's dtype of float32, which is new behavior in TensorFlow 2.  The layer has dtype float32 because it's dtype defaults to floatx.\n",
      "\n",
      "If you intended to run this layer in float32, you can safely ignore this warning. If in doubt, this warning is likely only an issue if you are porting a TensorFlow 1.X model to TensorFlow 2.\n",
      "\n",
      "To change all layers to have dtype float64 by default, call `tf.keras.backend.set_floatx('float64')`. To change just this layer, pass dtype='float64' to the layer constructor. If you are the author of this layer, you can disable autocasting by passing autocast=False to the base Layer constructor.\n",
      "\n"
     ]
    },
    {
     "data": {
      "text/plain": [
       "<tf.Tensor: shape=(10, 200, 150), dtype=float32, numpy=\n",
       "array([[[-0.44710606, -0.03479009,  0.2776845 , ...,  0.03071656,\n",
       "          0.04172621, -0.2214867 ],\n",
       "        [ 0.36780643, -0.03157755,  0.20750643, ...,  0.15242286,\n",
       "         -0.58608115, -0.59799516],\n",
       "        [ 0.01328856,  0.40988535, -0.5281662 , ...,  0.06496996,\n",
       "          0.04788193, -0.27807432],\n",
       "        ...,\n",
       "        [ 0.0117518 ,  0.40927723, -0.27528048, ..., -0.08732712,\n",
       "         -0.11722292, -0.34099525],\n",
       "        [ 0.20032226, -0.37790754, -0.43276054, ..., -0.5427054 ,\n",
       "          0.3727481 ,  0.00213731],\n",
       "        [-0.00595208,  0.6486525 , -0.0945396 , ...,  0.0463046 ,\n",
       "          0.16105889, -0.12292836]],\n",
       "\n",
       "       [[-0.21661524,  0.22649434, -0.7352831 , ..., -0.24333984,\n",
       "          0.18397786,  0.26458293],\n",
       "        [-0.2824777 ,  0.40678188, -0.05302149, ...,  0.20446025,\n",
       "         -0.15899362,  0.3583934 ],\n",
       "        [ 0.03856886,  0.20995648, -0.41758028, ...,  0.1178822 ,\n",
       "          0.15441886,  0.3110795 ],\n",
       "        ...,\n",
       "        [-0.24471532,  0.27806184, -0.21998084, ...,  0.07373706,\n",
       "         -0.01210515,  0.36845812],\n",
       "        [ 0.34264666,  0.07380755, -0.31368983, ...,  0.14811695,\n",
       "         -0.3792965 ,  0.21032634],\n",
       "        [-0.09240095,  0.05496587, -0.46732903, ...,  0.20081313,\n",
       "          0.2559416 ,  0.31657746]],\n",
       "\n",
       "       [[-0.11232889, -0.01926444, -0.28667152, ..., -0.06306911,\n",
       "         -0.14530054, -0.3982366 ],\n",
       "        [ 0.31938738,  0.2861923 , -0.13851848, ...,  0.3578402 ,\n",
       "         -0.39965746,  0.24590604],\n",
       "        [-0.09549455,  0.24000312,  0.18204477, ..., -0.35364485,\n",
       "         -0.0239189 , -0.41159725],\n",
       "        ...,\n",
       "        [-0.24819526,  0.4319367 , -0.23300408, ...,  0.11727791,\n",
       "          0.6534981 ,  0.11122461],\n",
       "        [ 0.1780238 ,  0.22554138, -0.31050214, ...,  0.07287406,\n",
       "         -0.16599883, -0.390274  ],\n",
       "        [-0.10280605, -0.02131028, -0.14573438, ..., -0.21024826,\n",
       "          0.26341194, -0.40139255]],\n",
       "\n",
       "       ...,\n",
       "\n",
       "       [[ 0.40939754,  0.05405173, -0.3463549 , ..., -0.18668   ,\n",
       "         -0.0770458 , -0.27718645],\n",
       "        [ 0.06591001, -0.208459  , -0.66561383, ..., -0.13354747,\n",
       "          0.23945808,  0.46710864],\n",
       "        [ 0.02717155,  0.40091804, -0.20277   , ...,  0.35528702,\n",
       "         -0.06674729, -0.13177632],\n",
       "        ...,\n",
       "        [-0.3603723 ,  0.63399315, -0.01229539, ...,  0.09574397,\n",
       "         -0.15684217, -0.09270663],\n",
       "        [ 0.15631779,  0.05752918, -0.31336108, ...,  0.24116836,\n",
       "         -0.55045176, -0.20122503],\n",
       "        [-0.00840741,  0.38997942, -0.02406992, ..., -0.1418512 ,\n",
       "          0.05386676, -0.36066628]],\n",
       "\n",
       "       [[ 0.19536474,  0.17606664,  0.08325126, ...,  0.38251784,\n",
       "          0.03987537, -0.21443701],\n",
       "        [-0.02739674,  0.3575255 , -0.34968477, ...,  0.1553145 ,\n",
       "          0.16677383, -0.14823064],\n",
       "        [-0.09929443,  0.433408  ,  0.72504216, ...,  0.14158541,\n",
       "         -0.04412349, -0.1241015 ],\n",
       "        ...,\n",
       "        [-0.36318386,  0.20821619, -0.25169253, ..., -0.3935765 ,\n",
       "          0.02221264, -0.34457234],\n",
       "        [ 0.04464978, -0.36336938, -0.45919183, ...,  0.0224759 ,\n",
       "         -0.26333758,  0.01195357],\n",
       "        [ 0.08611932,  0.07493075, -0.05174642, ...,  0.21387641,\n",
       "          0.12707606,  0.25929582]],\n",
       "\n",
       "       [[-0.04912078,  0.48772615, -0.53227925, ..., -0.20118333,\n",
       "         -0.00330665, -0.08875768],\n",
       "        [-0.05211416,  0.6661328 , -0.38778213, ...,  0.13262503,\n",
       "         -0.03236677, -0.00077803],\n",
       "        [ 0.25064653,  0.31438485, -0.15887316, ...,  0.30739257,\n",
       "         -0.02248383, -0.42935362],\n",
       "        ...,\n",
       "        [ 0.28705224,  0.1067012 , -0.24945286, ..., -0.06389582,\n",
       "         -0.41887876, -0.23375264],\n",
       "        [-0.01298611,  0.6821891 , -0.29331914, ...,  0.05455189,\n",
       "         -0.0890656 , -0.18776147],\n",
       "        [-0.16241738,  0.20596981, -0.5867115 , ..., -0.04108332,\n",
       "         -0.02472951, -0.32347834]]], dtype=float32)>"
      ]
     },
     "execution_count": 25,
     "metadata": {},
     "output_type": "execute_result"
    }
   ],
   "source": [
    "model(exp_data[:50])"
   ]
  },
  {
   "cell_type": "markdown",
   "metadata": {},
   "source": [
    "## 일단 너무 추우니까 철수 ;"
   ]
  },
  {
   "cell_type": "code",
   "execution_count": null,
   "metadata": {},
   "outputs": [],
   "source": []
  }
 ],
 "metadata": {
  "kernelspec": {
   "display_name": "Python 3",
   "language": "python",
   "name": "python3"
  },
  "language_info": {
   "codemirror_mode": {
    "name": "ipython",
    "version": 3
   },
   "file_extension": ".py",
   "mimetype": "text/x-python",
   "name": "python",
   "nbconvert_exporter": "python",
   "pygments_lexer": "ipython3",
   "version": "3.6.8"
  }
 },
 "nbformat": 4,
 "nbformat_minor": 2
}
